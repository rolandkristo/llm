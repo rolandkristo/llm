{
  "nbformat": 4,
  "nbformat_minor": 0,
  "metadata": {
    "colab": {
      "provenance": [],
      "include_colab_link": true
    },
    "kernelspec": {
      "name": "python3",
      "display_name": "Python 3"
    },
    "language_info": {
      "name": "python"
    }
  },
  "cells": [
    {
      "cell_type": "markdown",
      "metadata": {
        "id": "view-in-github",
        "colab_type": "text"
      },
      "source": [
        "<a href=\"https://colab.research.google.com/github/rolandkristo/llm/blob/main/preliminaries/quick_dl_torch_intro.ipynb\" target=\"_parent\"><img src=\"https://colab.research.google.com/assets/colab-badge.svg\" alt=\"Open In Colab\"/></a>"
      ]
    },
    {
      "cell_type": "markdown",
      "source": [
        "<img src=\"https://cdn.githubraw.com/antndlcrx/oss_2024/main/images/dpir_oss.png?raw=true:,  width=70\" alt=\"My Image\" width=500>"
      ],
      "metadata": {
        "id": "ohJ7uMtDHdH6"
      }
    },
    {
      "cell_type": "markdown",
      "source": [
        "# **Deep Learning and PyTorch**"
      ],
      "metadata": {
        "id": "YhHekiBZ4gFb"
      }
    },
    {
      "cell_type": "markdown",
      "source": [
        "## **1**.&nbsp; **Deep Learning**"
      ],
      "metadata": {
        "id": "sp1Twc4B4kUA"
      }
    },
    {
      "cell_type": "markdown",
      "source": [
        "**Deep learning** is a subfield of machine learning that uses **neural networks with many layers to automatically learn patterns from large amounts of data**. These models are inspired by the structure of the human brain and can learn to recognize complex patterns in text, images, audio, and more.\n",
        "\n",
        "<img src=\"https://cdn.githubraw.com/antndlcrx/oss_2024/main/images/dl_from_pytorch_book.png?raw=true:,  width=70\" alt=\"My Image\" width=700>\n",
        "\n",
        "[Image Source](https://isip.piconepress.com/courses/temple/ece_4822/resources/books/Deep-Learning-with-PyTorch.pdf)"
      ],
      "metadata": {
        "id": "CSx5TNVc8ewd"
      }
    },
    {
      "cell_type": "markdown",
      "source": [
        "### **Backpropagation**\n",
        "\n",
        "The **learning process is driven by** an algorithm called **backpropagation**, which adjusts the model's internal parameters (weights) based on how far off its predictions are from the actual outcomes. **This is done by computing gradients** — how much each parameter contributed to the error — and updating the parameters to improve performance.\n",
        "\n",
        "<img src=\"https://cdn.githubraw.com/antndlcrx/oss_2024/main/images/backprop_torch_book.png?raw=true:,  width=70\" alt=\"My Image\" width=700>\n",
        "\n",
        "[Image Source](https://isip.piconepress.com/courses/temple/ece_4822/resources/books/Deep-Learning-with-PyTorch.pdf)\n",
        "\n",
        "Frameworks like [**PyTorch**](https://pytorch.org/tutorials/beginner/basics/intro.html) make this process efficient and intuitive by automatically handling gradient computation and parameter updates through tools like autograd and optimizers.\n",
        "\n",
        "> 📖 For a deep (no pun intended) dive, check-out these resources:\n",
        "- [**Deep Learning with PyTorch Book by Stevens, Antiga, Viehmann**](https://isip.piconepress.com/courses/temple/ece_4822/resources/books/Deep-Learning-with-PyTorch.pdf)\n",
        "- [**Deep Learning by Goodfellow, Bengio, Aaron Courville**](https://www.deeplearningbook.org/)."
      ],
      "metadata": {
        "id": "j8m9pDiD_5A2"
      }
    },
    {
      "cell_type": "markdown",
      "source": [
        "## **2**.&nbsp; **PyTorch**"
      ],
      "metadata": {
        "id": "kKiYmZd28fDq"
      }
    },
    {
      "cell_type": "markdown",
      "source": [
        "🔧 **Introduction to PyTorch, Tensors, and Autograd**\n",
        "\n",
        "**PyTorch** is a popular deep learning framework that combines flexibility and performance, widely used for machine learning and scientific computing. At its core is the concept of the **tensor** — a generalization of arrays or matrices. Tensors are **multidimensional arrays** that can run on either the CPU or GPU, making them ideal for high-performance computations.\n",
        "\n",
        "A **PyTorch tensor** is like a NumPy array, but with **built-in support for automatic differentiation and GPU acceleration**. You can perform arithmetic, reshape operations, and apply complex functions, all while tracking the computational graph for gradients.\n",
        "\n",
        "This tracking is handled by **autograd**, PyTorch's automatic differentiation engine. When you perform operations on tensors with `requires_grad=True`, PyTorch builds a computation graph behind the scenes. Then, by calling `.backward()`, it automatically computes the **gradients** of all involved tensors — which is essential for optimizing model parameters during training.\n",
        "\n",
        "This combination of **tensors + autograd** enables PyTorch to support deep learning workflows with concise, readable code."
      ],
      "metadata": {
        "id": "o7wa6N188ozO"
      }
    },
    {
      "cell_type": "markdown",
      "source": [
        "### 📦 **PyTorch Tensors: Attributes and Methods**\n",
        "\n",
        "In PyTorch, a [**tensor**](https://pytorch.org/tutorials/beginner/introyt/tensors_deeper_tutorial.html) is the primary data structure — like a NumPy array, but with support for automatic differentiation and GPU acceleration. Understanding a few key **tensor attributes** and **methods** will help you debug, reshape, and manipulate data effectively.\n",
        "\n",
        "### 🔍 Common Tensor Attributes\n",
        "\n",
        "| Attribute         | Description                            | Example Output             |\n",
        "|------------------|----------------------------------------|----------------------------|\n",
        "| `tensor.shape`   | The size of each dimension              | `torch.Size([3, 2])`       |\n",
        "| `tensor.dtype`   | The data type (e.g., `float32`, `int64`) | `torch.float32`            |\n",
        "| `tensor.device`  | The device the tensor is on (CPU/GPU)   | `cpu` or `cuda:0`          |\n",
        "| `tensor.requires_grad` | Tracks if autograd will compute gradients | `True` or `False`      |\n",
        "\n",
        "### 🛠️ Common Tensor Methods\n",
        "\n",
        "| Method              | Purpose                                 |\n",
        "|---------------------|-----------------------------------------|\n",
        "| `tensor.view()`     | Reshapes the tensor (like `.reshape()`) |\n",
        "| `tensor.unsqueeze()`| Adds a dimension (e.g., for batching)   |\n",
        "| `tensor.squeeze()`  | Removes dimensions of size 1            |\n",
        "| `tensor.item()`     | Extracts a Python number from a 1-element tensor |\n",
        "| `tensor.detach()`   | Returns a new tensor detached from the computation graph |\n",
        "| `tensor.clone()`    | Creates a copy of the tensor            |\n",
        "\n",
        "---"
      ],
      "metadata": {
        "id": "MGAiDihILvwJ"
      }
    },
    {
      "cell_type": "markdown",
      "source": [
        "### 🧠 **Main PyTorch Modules**\n",
        "\n",
        "PyTorch is modular and offers a rich ecosystem for building and training deep learning models. Here are the most important submodules you'll use frequently:\n",
        "\n",
        "### 🔧 `torch.nn`\n",
        "This is the [**neural network module**](https://pytorch.org/docs/stable/nn.html), used to build models by combining layers like `nn.Linear`, `nn.Conv2d`, `nn.ReLU`, etc. You typically subclass `nn.Module` to define custom models.\n",
        "\n",
        "```python\n",
        "import torch.nn as nn\n",
        "\n",
        "model = nn.Sequential(\n",
        "    nn.Linear(10, 5),\n",
        "    nn.ReLU(),\n",
        "    nn.Linear(5, 1)\n",
        ")\n",
        "```\n",
        "\n",
        "### 🎯 `torch.nn.functional` (aka `F`)\n",
        "This module provides **stateless versions** of layers and activation functions. You use `F.relu(x)` or `F.cross_entropy()` when you want more control over operations inside your custom model. See more [here](https://pytorch.org/docs/stable/nn.functional.html).\n",
        "\n",
        "```python\n",
        "import torch.nn.functional as F\n",
        "\n",
        "x = torch.randn(3, 5)\n",
        "output = F.relu(x)\n",
        "```\n",
        "\n",
        "### 📉 `torch.optim`\n",
        "This [module](https://pytorch.org/docs/stable/optim.html) includes **optimizers** like SGD, Adam, etc., which are used to update model parameters during training.\n",
        "\n",
        "```python\n",
        "optimizer = torch.optim.SGD(model.parameters(), lr=0.01)\n",
        "```\n",
        "\n",
        "### 📦 `torch.utils.data`\n",
        "[`torch.utils.data`](https://pytorch.org/docs/stable/data.html) provides tools for handling data, such as `Dataset` and `DataLoader`. These help manage large datasets and batch training.\n",
        "\n",
        "```python\n",
        "from torch.utils.data import DataLoader, TensorDataset\n",
        "\n",
        "dataset = TensorDataset(x, y)\n",
        "loader = DataLoader(dataset, batch_size=32, shuffle=True)\n",
        "```\n"
      ],
      "metadata": {
        "id": "BIi2fF-BMsvA"
      }
    },
    {
      "cell_type": "markdown",
      "source": [
        "### **Mini Example: Bivariate Linear Regression**"
      ],
      "metadata": {
        "id": "wc0G2RUGMY9I"
      }
    },
    {
      "cell_type": "code",
      "execution_count": 1,
      "metadata": {
        "id": "ILQwXmup4bIQ"
      },
      "outputs": [],
      "source": [
        "import torch"
      ]
    },
    {
      "cell_type": "code",
      "source": [
        "n_vars = 5"
      ],
      "metadata": {
        "colab": {
          "base_uri": "https://localhost:8080/"
        },
        "id": "6Fk5kTWM6WEc",
        "outputId": "ca2435a8-e7e6-4d20-db95-7a5596670ce3"
      },
      "execution_count": null,
      "outputs": [
        {
          "output_type": "stream",
          "name": "stdout",
          "text": [
            "tensor([0.2576]) \n",
            " tensor([0.3470, 0.0240, 0.7797, 0.1519, 0.7513])\n"
          ]
        }
      ]
    },
    {
      "cell_type": "code",
      "source": [],
      "metadata": {
        "colab": {
          "base_uri": "https://localhost:8080/"
        },
        "id": "v1vN5HPa3LH5",
        "outputId": "bfffa1d7-b88a-4a3e-a12f-360093150aa8"
      },
      "execution_count": null,
      "outputs": [
        {
          "output_type": "stream",
          "name": "stdout",
          "text": [
            "Epoch 0: loss 0.12258274108171463\n",
            "Epoch 1000: loss 0.00927831046283245\n",
            "Epoch 2000: loss 0.0010254544904455543\n",
            "Epoch 3000: loss 0.00012447939661797136\n",
            "Epoch 4000: loss 1.6749381757108495e-05\n"
          ]
        }
      ]
    },
    {
      "cell_type": "code",
      "source": [
        "#@title hide\n",
        "\n",
        "# data\n",
        "torch.manual_seed(42)\n",
        "\n",
        "torch.rand(3)\n",
        "\n",
        "n_features = 5\n",
        "\n",
        "X = torch.rand((50, n_features))\n",
        "a = torch.rand(1)\n",
        "b = torch.rand(n_features)\n",
        "\n",
        "y = a + X * b\n",
        "\n",
        "print(a, \"\\n\", b)\n",
        "\n",
        "# implement\n",
        "\n",
        "w = torch.rand(n_features, requires_grad=True)\n",
        "b = torch.rand(1, requires_grad=True)\n",
        "\n",
        "epochs = 5000\n",
        "\n",
        "# loss_fn = torch.nn.MSELoss\n",
        "optimizer = torch.optim.SGD(params=[w, b], lr=0.01)\n",
        "\n",
        "# p = p - lr * grad\n",
        "\n",
        "for e in range(epochs):\n",
        "\n",
        "    y_pred = w * X + b\n",
        "    loss = torch.mean((y_pred - y)**2)\n",
        "\n",
        "    loss.backward()\n",
        "    optimizer.step()\n",
        "    optimizer.zero_grad()\n",
        "\n",
        "    if e % 1000 == 0:\n",
        "        print(f\"Epoch {e}: loss {loss}\")"
      ],
      "metadata": {
        "colab": {
          "base_uri": "https://localhost:8080/"
        },
        "id": "GQFuwtuf6iYx",
        "outputId": "bd9b12ca-3547-4074-c6ba-2c1de0e43972",
        "cellView": "form"
      },
      "execution_count": null,
      "outputs": [
        {
          "output_type": "stream",
          "name": "stdout",
          "text": [
            "tensor([0.2576]) \n",
            " tensor([0.3470, 0.0240, 0.7797, 0.1519, 0.7513])\n",
            "Epoch 0: loss 0.346267431974411\n",
            "Epoch 1000: loss 0.011155854910612106\n",
            "Epoch 2000: loss 0.001558643183670938\n",
            "Epoch 3000: loss 0.00041113299084827304\n",
            "Epoch 4000: loss 0.0001776695135049522\n"
          ]
        }
      ]
    },
    {
      "cell_type": "code",
      "source": [
        "import matplotlib.pyplot as plt\n",
        "\n",
        "# Get the final predictions\n",
        "y_pred = X * w + b\n",
        "\n",
        "# Detach tensors from the computational graph for plotting\n",
        "y_pred_np = y_pred.detach().numpy()\n",
        "y_np = y.detach().numpy()\n",
        "\n",
        "# Create the scatter plot\n",
        "plt.figure(figsize=(8, 6))\n",
        "plt.scatter(y_np, y_pred_np)\n",
        "plt.xlabel(\"Actual (y)\")\n",
        "plt.ylabel(\"Predicted (y_pred)\")\n",
        "plt.title(\"Scatter Plot of Actual vs. Predicted Values\")\n",
        "plt.grid(True)\n",
        "plt.show()"
      ],
      "metadata": {
        "colab": {
          "base_uri": "https://localhost:8080/",
          "height": 564
        },
        "id": "hOF49R0T7vEi",
        "outputId": "c2aeca70-05e7-42ba-f9ee-3f776b1518d3"
      },
      "execution_count": null,
      "outputs": [
        {
          "output_type": "display_data",
          "data": {
            "text/plain": [
              "<Figure size 800x600 with 1 Axes>"
            ],
            "image/png": "[encoded data removed]"
          },
          "metadata": {}
        }
      ]
    },
    {
      "cell_type": "code",
      "source": [
        "# demo @ if necessary\n",
        "torch.manual_seed(42)\n",
        "\n",
        "x = torch.rand((2))\n",
        "print(x, \"\\n\"*2)\n",
        "\n",
        "y = torch.rand((2, 10))\n",
        "print(y, \"\\n\"*2)\n",
        "\n",
        "print(x @ y, \"\\n\"*2)\n",
        "\n",
        "x[0] * y[0, 0] + x[1] * y[1, 0] # for 2d"
      ],
      "metadata": {
        "colab": {
          "base_uri": "https://localhost:8080/"
        },
        "id": "1keDKWjs599K",
        "outputId": "990e157c-c94b-4a74-d2e9-a6055b9d06d4"
      },
      "execution_count": null,
      "outputs": [
        {
          "output_type": "stream",
          "name": "stdout",
          "text": [
            "tensor([0.8823, 0.9150]) \n",
            "\n",
            "\n",
            "tensor([[0.3829, 0.9593, 0.3904, 0.6009, 0.2566, 0.7936, 0.9408, 0.1332, 0.9346,\n",
            "         0.5936],\n",
            "        [0.8694, 0.5677, 0.7411, 0.4294, 0.8854, 0.5739, 0.2666, 0.6274, 0.2696,\n",
            "         0.4414]]) \n",
            "\n",
            "\n",
            "tensor([1.1333, 1.3658, 1.0226, 0.9231, 1.0365, 1.2253, 1.0739, 0.6916, 1.0713,\n",
            "        0.9275]) \n",
            "\n",
            "\n"
          ]
        },
        {
          "output_type": "execute_result",
          "data": {
            "text/plain": [
              "tensor(1.1333)"
            ]
          },
          "metadata": {},
          "execution_count": 25
        }
      ]
    }
  ]
}