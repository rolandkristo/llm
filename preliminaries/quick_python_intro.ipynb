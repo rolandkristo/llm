{
  "nbformat": 4,
  "nbformat_minor": 0,
  "metadata": {
    "colab": {
      "provenance": [],
      "toc_visible": true,
      "include_colab_link": true
    },
    "kernelspec": {
      "name": "python3",
      "display_name": "Python 3"
    },
    "language_info": {
      "name": "python"
    }
  },
  "cells": [
    {
      "cell_type": "markdown",
      "metadata": {
        "id": "view-in-github",
        "colab_type": "text"
      },
      "source": [
        "<a href=\"https://colab.research.google.com/github/rolandkristo/llm/blob/main/preliminaries/quick_python_intro.ipynb\" target=\"_parent\"><img src=\"https://colab.research.google.com/assets/colab-badge.svg\" alt=\"Open In Colab\"/></a>"
      ]
    },
    {
      "cell_type": "markdown",
      "source": [
        "<img src=\"https://cdn.githubraw.com/antndlcrx/oss_2024/main/images/dpir_oss.png?raw=true:,  width=70\" alt=\"My Image\" width=500>\n",
        "\n",
        "# **Prerequisits Introduction for the LLMs Course**"
      ],
      "metadata": {
        "id": "OWVIQ-o074UV"
      }
    },
    {
      "cell_type": "markdown",
      "source": [
        "## **1**.&nbsp; **Python**"
      ],
      "metadata": {
        "id": "s3pHrgCU7-Dh"
      }
    },
    {
      "cell_type": "markdown",
      "source": [
        "### **Object Oriented Programming**\n",
        "\n",
        "Python supports multiple programming paradigms, including procedural, functional, and object-oriented programming (OOP). However, understanding Python's object-oriented nature is key to working effectively with the language.\n",
        "\n",
        "In Python, **everything is an object** — from integers and strings to functions and even classes themselves. **Objects are instances of classes, and they encapsulate both attributes (data/state) and behaviors** (methods/functions). This structure allows objects to interact with one another in predictable and modular ways, making it easier to design, extend, and maintain complex systems."
      ],
      "metadata": {
        "id": "_xvG18wH7_SV"
      }
    },
    {
      "cell_type": "markdown",
      "source": [
        "### **Main Python Operators**\n",
        "\n",
        "| **Operator** | **Description**                         | **Example**            | **Output**             |\n",
        "|----------|-------------------------------------|--------------------|--------------------|\n",
        "| `=`      | Assignment                          | `x = 5`            | `x` is now `5`     |\n",
        "| `+`      | Addition                            | `2 + 3`            | `5`                |\n",
        "| `-`      | Subtraction                         | `5 - 2`            | `3`                |\n",
        "| `*`      | Multiplication                      | `4 * 2`            | `8`                |\n",
        "| `/`      | Division (float)                    | `5 / 2`            | `2.5`              |\n",
        "| `//`     | Floor Division                      | `5 // 2`           | `2`                |\n",
        "| `%`      | Modulus (remainder)                 | `5 % 2`            | `1`                |\n",
        "| `**`     | Exponentiation                      | `2 ** 3`           | `8`                |\n",
        "| `@`      | Matrix Multiplication (e.g. NumPy)  | `A @ B`            | matrix result      |\n",
        "\n"
      ],
      "metadata": {
        "id": "iTTQ0Nan8jOz"
      }
    },
    {
      "cell_type": "code",
      "source": [],
      "metadata": {
        "id": "mNztkPg1_AZw"
      },
      "execution_count": null,
      "outputs": []
    },
    {
      "cell_type": "code",
      "source": [
        "#@title Example\n",
        "my_var = 5 + 6\n",
        "another_var = \"hi\"\n",
        "\n",
        "next_var = my_var ** 2\n",
        "next_var += my_var\n",
        "\n",
        "# next_var + another_var\n",
        "another_var + \"lol\"\n",
        "\n",
        "many_things = [x for x in range(0, 10, 2)]\n",
        "many_things\n",
        "\n",
        "type(my_var)\n",
        "isinstance(another_var, str)"
      ],
      "metadata": {
        "colab": {
          "base_uri": "https://localhost:8080/"
        },
        "cellView": "form",
        "id": "UgvDvpTV_AqR",
        "outputId": "cc62c2ac-ea68-47ef-9ef6-2e80a6d4bd5a"
      },
      "execution_count": null,
      "outputs": [
        {
          "output_type": "execute_result",
          "data": {
            "text/plain": [
              "True"
            ]
          },
          "metadata": {},
          "execution_count": 51
        }
      ]
    },
    {
      "cell_type": "markdown",
      "source": [
        "### **Comparison Operators**\n",
        "\n",
        "| **Operator** | **Description**                         | **Example**            | **Output**             |\n",
        "|----------|-------------------------------------|--------------------|--------------------|\n",
        "| `==`     | Equal to                            | `3 == 3`           | `True`             |\n",
        "| `!=`     | Not equal to                        | `3 != 2`           | `True`             |\n",
        "| `>`      | Greater than                        | `3 > 2`            | `True`             |\n",
        "| `<`      | Less than                           | `2 < 3`            | `True`             |\n",
        "| `>=`     | Greater than or equal to            | `3 >= 3`           | `True`             |\n",
        "| `<=`     | Less than or equal to               | `2 <= 3`           | `True`             |\n"
      ],
      "metadata": {
        "id": "6ZbxJR4q-jz8"
      }
    },
    {
      "cell_type": "markdown",
      "source": [
        "### **Main Python Data Containers**\n",
        "\n",
        "Python provides several built-in data containers that help you store and organize data efficiently. The four most common ones for beginners are lists, dictionaries, tuples, and sets.\n",
        "\n",
        "- **List** (`[]`): **An ordered, mutable collection of items**. Lists can hold elements of different types, and you can change, add, or remove items after creation.\n",
        "Example: `my_list = [1, 'apple', True]`\n",
        "\n",
        "- **Dictionary** (`{}`): **An unordered collection of key-value pairs**. Each key must be unique, and you can use dictionaries to store and quickly access data by key.\n",
        "Example: `my_dict = {'name': 'Alice', 'age': 30}`\n",
        "\n",
        "- **Tuple** (`()`): **An ordered, immutable collection of items**. Like lists, tuples can store multiple types, but once created, their contents can't be changed.\n",
        "Example: `my_tuple = (10, 'banana', False)`\n",
        "\n",
        "- **Set** (`{}`): **An unordered collection of unique items**. Sets automatically remove duplicates and are useful when you want to test for membership or eliminate redundancy.\n",
        "Example: `my_set = {1, 2, 2, 3} → {1, 2, 3}`\n",
        "\n",
        "Each of these containers is suited to different tasks, and knowing when to use which one is a key part of writing clean, efficient Python code."
      ],
      "metadata": {
        "id": "xgs6MhBVAOHr"
      }
    },
    {
      "cell_type": "code",
      "source": [
        "#@title Example List\n",
        "my_list = [1, 2, 5, 5]\n",
        "\n",
        "my_list.append(6)\n",
        "my_list\n",
        "\n",
        "my_list_sqrd = [x**2 for x in my_list]\n",
        "my_list_sqrd"
      ],
      "metadata": {
        "colab": {
          "base_uri": "https://localhost:8080/"
        },
        "id": "upotm3WAANsP",
        "outputId": "0019381a-61a8-4d11-c942-a8e0d9dcdfb6"
      },
      "execution_count": null,
      "outputs": [
        {
          "output_type": "execute_result",
          "data": {
            "text/plain": [
              "{1, 4, 25, 36}"
            ]
          },
          "metadata": {},
          "execution_count": 19
        }
      ]
    },
    {
      "cell_type": "code",
      "source": [
        "#@title Example Dictionary\n",
        "ex_dict = {\n",
        "    \"a\": 5,\n",
        "    \"b\": 6,\n",
        "    \"c\": [1, 2, 3]\n",
        "}\n",
        "\n",
        "ex_dict.items()\n",
        "ex_dict.keys()\n",
        "ex_dict.values()\n",
        "\n",
        "ex_dict.get(\"a\", 0)\n",
        "ex_dict.get(\"d\", 0)\n",
        "\n",
        "ex_dict['a']\n",
        "ex_dict['d'] = 4.5"
      ],
      "metadata": {
        "cellView": "form",
        "id": "Y7O6r5XdBtzh"
      },
      "execution_count": null,
      "outputs": []
    },
    {
      "cell_type": "markdown",
      "source": [
        "### **Python Indexing**\n",
        "\n",
        "Indexing in Python is the way you access individual elements within a data container like a list, tuple, string, or dictionary. **Python uses zero-based indexing**, meaning **the first element is at position `0`, the second at `1`**, and so on. You can also use negative indexing to count from the end of a sequence, with `-1` **referring to the last element**.\n",
        "\n",
        "Lists (and similar sequences) follow positional indexing, where the index must be an integer. Trying to access an index that doesn't exist will raise an IndexError.\n",
        "\n",
        "In contrast, dictionaries use key-based indexing, not positions. You access values by their keys."
      ],
      "metadata": {
        "id": "DVXEy13QCFH2"
      }
    },
    {
      "cell_type": "code",
      "source": [
        "#@title Indexing Example\n",
        "\n",
        "my_list[0] # first element\n",
        "my_list[1] # second element\n",
        "my_list[-1] # last element\n",
        "\n",
        "ex_dict['a'] # index the value corresponding to key \"a\""
      ],
      "metadata": {
        "colab": {
          "base_uri": "https://localhost:8080/"
        },
        "cellView": "form",
        "id": "DsgeoeYMDTxY",
        "outputId": "5ea24b3f-c96e-48a6-94fc-5914812fac5c"
      },
      "execution_count": null,
      "outputs": [
        {
          "output_type": "execute_result",
          "data": {
            "text/plain": [
              "[1, 2]"
            ]
          },
          "metadata": {},
          "execution_count": 31
        }
      ]
    },
    {
      "cell_type": "markdown",
      "source": [
        "### **Python Slicing**\n",
        "\n",
        "**Slicing is a way to access a subset of elements from a sequence** like a list, tuple, or string. The basic syntax is `sequence[start:stop]`, which returns a new sequence starting at the start index and **stopping before the stop index** (i.e., the stop is exclusive). You can also optionally add a step as `sequence[start:stop:step]`."
      ],
      "metadata": {
        "id": "bbwddIpKD5Gq"
      }
    },
    {
      "cell_type": "code",
      "source": [
        "my_list[:2] # starts at idx 0 by default\n",
        "my_list[:-2] # get all up to second to last element\n",
        "my_list[1:5:2] # get every second element starting from second to fifth\n",
        "my_list[::-1] # reverse elements order in list (get all elements starting from last)\n",
        "\n",
        "# Slicing also works on strings, which are sequences of characters:\n",
        "\n",
        "text = \"I love lizards.\"\n",
        "text[0:6]"
      ],
      "metadata": {
        "colab": {
          "base_uri": "https://localhost:8080/",
          "height": 35
        },
        "id": "7cuTyfYsEFxG",
        "outputId": "0faa2e30-4347-4889-c412-8cb1d2ba7dc7"
      },
      "execution_count": null,
      "outputs": [
        {
          "output_type": "execute_result",
          "data": {
            "text/plain": [
              "'I love'"
            ],
            "application/vnd.google.colaboratory.intrinsic+json": {
              "type": "string"
            }
          },
          "metadata": {},
          "execution_count": 37
        }
      ]
    },
    {
      "cell_type": "markdown",
      "source": [
        "### **Membership & Identity**\n",
        "\n",
        "| **Operator** | **Description**                         | **Example**            | **Output**             |\n",
        "|----------|-------------------------------------|--------------------|--------------------|\n",
        "| `in`     | Membership                          | `'a' in 'cat'`     | `True`             |\n",
        "| `is`     | Identity (same object in memory)    | `a is b`           | `True` or `False`  |\n"
      ],
      "metadata": {
        "id": "_iXiQZapGyWV"
      }
    },
    {
      "cell_type": "code",
      "source": [
        "#@title Membership Example\n",
        "\n",
        "2 in my_list\n",
        "\"a\" in ex_dict\n",
        "\"a\" in text"
      ],
      "metadata": {
        "colab": {
          "base_uri": "https://localhost:8080/"
        },
        "cellView": "form",
        "id": "AVN-P11nGzhJ",
        "outputId": "c842a23b-bad2-4ed9-e8c4-fe05d8168c0a"
      },
      "execution_count": null,
      "outputs": [
        {
          "output_type": "execute_result",
          "data": {
            "text/plain": [
              "True"
            ]
          },
          "metadata": {},
          "execution_count": 40
        }
      ]
    },
    {
      "cell_type": "markdown",
      "source": [
        "### **For and While Loops**\n",
        "\n",
        "**Loops allow you to repeat a block of code multiple times**, making them essential for automation, iteration, and working with data in Python. The two most common types of loops are for loops and while loops.\n",
        "\n",
        "- **A `for` loop is used when you want to iterate over a sequence** (like a list, string, or range of numbers).\n",
        "Example:\n",
        "\n",
        "    ```python\n",
        "    for item in [1, 2, 3]:\n",
        "        print(item)\n",
        "    ```\n",
        "- **A `while` loop runs as long as a given condition is true**. It's useful when you don't know in advance how many times you'll need to loop.\n",
        "Example:\n",
        "\n",
        "    ```python\n",
        "    x = 0\n",
        "    while x < 3:\n",
        "        print(x)\n",
        "        x += 1\n",
        "    ```\n",
        "\n",
        "Python uses **reserved keywords** like `for`, `while`, `in`, `break`, and continue to define the structure and flow of loops. These **keywords** are part of the Python language and **cannot be used as variable names**.\n",
        "\n",
        "- `break` is used to exit a loop early.\n",
        "\n",
        "- `continue` skips the current iteration and moves to the next one."
      ],
      "metadata": {
        "id": "supD_lDAFW6C"
      }
    },
    {
      "cell_type": "markdown",
      "source": [
        "### **Conditional Statements**\n",
        "\n",
        "Conditional statements let your program make decisions by executing different blocks of code depending on whether a condition is true or false.\n",
        "\n",
        "- `if` checks a condition and runs a block of code if it is true.\n",
        "\n",
        "- `elif` (short for \"else if\") checks another condition if the previous if was false.\n",
        "\n",
        "- `else` runs a block of code if none of the previous conditions were true.\n",
        "\n"
      ],
      "metadata": {
        "id": "pvdF3DGSHP6X"
      }
    },
    {
      "cell_type": "code",
      "source": [
        "#@title Example Conditional Statement\n",
        "x = 10\n",
        "\n",
        "if x > 15:\n",
        "    print(\"x is greater than 15\")\n",
        "elif x > 5:\n",
        "    print(\"x is greater than 5 but not more than 15\")\n",
        "else:\n",
        "    print(\"x is 5 or less\")"
      ],
      "metadata": {
        "cellView": "form",
        "id": "6cL4ng6NHDmk"
      },
      "execution_count": null,
      "outputs": []
    },
    {
      "cell_type": "markdown",
      "source": [
        "### **Logical Operators**\n",
        "\n",
        "| Operator | Description                         | Example            | Output             |\n",
        "|----------|-------------------------------------|--------------------|--------------------|\n",
        "| `and`    | Logical AND                         | `True and False`   | `False`            |\n",
        "| `or`     | Logical OR                          | `True or False`    | `True`             |\n",
        "| `not`    | Logical NOT                         | `not True`         | `False`            |\n"
      ],
      "metadata": {
        "id": "0_iuwUQ6HsAf"
      }
    },
    {
      "cell_type": "code",
      "source": [
        "#@title Example Logical Operators\n",
        "\n",
        "age = 20\n",
        "has_id = True\n",
        "\n",
        "if age >= 18 and has_id:\n",
        "    print(\"Access granted\")\n",
        "else:\n",
        "    print(\"Access denied\")"
      ],
      "metadata": {
        "id": "JnoG6WzuH1yh"
      },
      "execution_count": null,
      "outputs": []
    },
    {
      "cell_type": "markdown",
      "source": [
        "### **Functions**\n",
        "\n",
        "**Functions are reusable blocks of code that perform a specific task**. They help you organize, reuse, and simplify your code. In Python, you define a function using the `def` keyword, followed by the function name and parentheses. You can also pass inputs (called parameters) and return outputs using the `return` statement.\n",
        "\n",
        "```python\n",
        "# define function\n",
        "def greet(name):\n",
        "    return f\"Hello, {name}!\"\n",
        "\n",
        "# call function\n",
        "greet(\"Alice\")  # Output: 'Hello, Alice!'\n",
        "```"
      ],
      "metadata": {
        "id": "CQQbq0y-IpwH"
      }
    },
    {
      "cell_type": "code",
      "source": [
        "#@title Example\n",
        "\n",
        "students = {\n",
        "    \"Jad\": {\"age\": 20,\n",
        "            \"has_id\": False},\n",
        "    \"Maksim\": {\"age\": 17,\n",
        "            \"has_id\": True},\n",
        "    \"Jolene\": {\"age\": 31,\n",
        "               \"has_id\": True}\n",
        "}\n",
        "\n",
        "# IMPORTANT: INDENTATION!!!\n",
        "def check_id(students: dict):\n",
        "    for student in students.keys():\n",
        "        age = students[student].get(\"age\")\n",
        "        id = students[student].get(\"has_id\")\n",
        "\n",
        "        if age >= 18 and id:\n",
        "            print(f\"{student}: access granted\")\n",
        "        else:\n",
        "            print(f\"{student}: no \")\n",
        "\n",
        "check_id(students)"
      ],
      "metadata": {
        "colab": {
          "base_uri": "https://localhost:8080/"
        },
        "cellView": "form",
        "id": "aq75EQJEIyk2",
        "outputId": "0b29d256-a540-42a5-963a-46192b4c3262"
      },
      "execution_count": null,
      "outputs": [
        {
          "output_type": "stream",
          "name": "stdout",
          "text": [
            "Jad: no \n",
            "Maksim: no \n",
            "Jolene: access granted\n"
          ]
        }
      ]
    },
    {
      "cell_type": "markdown",
      "source": [
        "### **Exercies**\n",
        "\n",
        "- Create a list containing integers from 10 to 30.\n",
        "- Print \"YAAY\" for every element of the list that can be divided by five and output a full integer.\n",
        "- Change the original list replacing the yay elements with the \"YAAY\" string.\n",
        "- Define a function that does the same for any input list containing integers or floats (numbers)."
      ],
      "metadata": {
        "id": "u3voz7YBKutN"
      }
    },
    {
      "cell_type": "code",
      "source": [
        "### YOUR CODE HERE ###\n",
        "10:30"
      ],
      "metadata": {
        "id": "wYN9POSQKypn"
      },
      "execution_count": null,
      "outputs": []
    },
    {
      "cell_type": "markdown",
      "source": [
        "### **Classes**\n",
        "\n",
        "Classes are Python's way of representing real-world things as objects in code. **A class defines a blueprint for creating objects**, which are **individual instances containing data (attributes) and behavior (methods)**. Using classes allows you to bundle data and functionality together in a clean, reusable structure — a key part of object-oriented programming (OOP).\n",
        "\n",
        "```python\n",
        "class Dog: # class defintion\n",
        "    def __init__(self, name, breed):  # special method, initialisation params\n",
        "        self.name = name              # attribute\n",
        "        self.breed = breed\n",
        "\n",
        "    def bark(self):                  # method\n",
        "        return f\"{self.name} says woof!\"\n",
        "```\n",
        "\n",
        "- **Attributes** like `name` and `breed` store object-specific data.\n",
        "\n",
        "- **Methods** like `bark()` define behaviors associated with the object.\n",
        "\n",
        "- `__init__` is a **special method** (also called a \"dunder\" method) that runs automatically when you create a new object — it's used to initialize the object's data."
      ],
      "metadata": {
        "id": "ZIPvOLaBKaZz"
      }
    },
    {
      "cell_type": "code",
      "source": [
        "#@title Example Classes\n",
        "\n",
        "class Student():\n",
        "    def __init__(self, name, subject, grade):\n",
        "        self.name = name\n",
        "        self.subject = subject\n",
        "        self.grade = grade\n",
        "\n",
        "    def has_passed(self):\n",
        "        return self.grade >= 51\n",
        "\n",
        "    # Optional: show ppl other special methods\n",
        "    def __str__(self):\n",
        "        return f\"{self.name} - {self.subject}: {'Passed' if self.grade >= 51 else 'Failed'}\"\n",
        "\n",
        "\n",
        "anna = Student(\"Anna\", \"Python\", 67)\n",
        "anna.has_passed()\n",
        "# str(anna)"
      ],
      "metadata": {
        "colab": {
          "base_uri": "https://localhost:8080/",
          "height": 35
        },
        "id": "w2P4zGxVKbu8",
        "outputId": "bc347f04-6943-403a-ae8b-b727af92efb9"
      },
      "execution_count": null,
      "outputs": [
        {
          "output_type": "execute_result",
          "data": {
            "text/plain": [
              "'Anna - Python: Passed'"
            ],
            "application/vnd.google.colaboratory.intrinsic+json": {
              "type": "string"
            }
          },
          "metadata": {},
          "execution_count": 74
        }
      ]
    },
    {
      "cell_type": "markdown",
      "source": [
        "### **Class Inheritance**\n",
        "\n",
        "**Inheritance** is a key concept in object-oriented programming that **allows one class** (called a child or subclass) **to inherit attributes and methods from another class** (called a parent or superclass). This lets you reuse code and build more specific versions of general classes without rewriting everything. In Python, you create a subclass by passing the parent class into the parentheses of the class definition. If the child class needs to customize the initialization process, it can use the `super()` function to call the parent's `__init__` method and then add its own attributes or behavior. Inheritance helps keep code organized, reduces duplication, and allows for flexible, scalable program design."
      ],
      "metadata": {
        "id": "4jU7_vhVSifE"
      }
    },
    {
      "cell_type": "code",
      "source": [
        "#@title Example Inheretance\n",
        "\n",
        "class GraduateStudent(Student):\n",
        "    def __init__(self, name, subject, grade, has_thesis):\n",
        "        # Use super() to call the parent class's __init__ method\n",
        "        super().__init__(name, subject, grade)\n",
        "        self.has_thesis = has_thesis\n",
        "\n",
        "    def is_doctor(self):\n",
        "        # Graduate students need at least 70 to pass\n",
        "        return self.grade >= 70 and self.has_thesis\n",
        "\n",
        "anna = Student(\"Anna\", \"Python\", 67)\n",
        "bob = GraduateStudent(\"Bob\", \"AI Ethics\", 72, True)\n",
        "chris = GraduateStudent(\"Chris\", \"AI Ethics\", 68, True)\n",
        "\n",
        "print(anna.has_passed())   # True (Student needs 51)\n",
        "print(bob.has_passed())    # True (Student needs 51)\n",
        "print(chris.has_passed())  # True (Student needs 51)\n",
        "\n",
        "print(bob.is_doctor())    # True (Graduate needs 70 + thesis)\n",
        "print(chris.is_doctor())  # False (68 is not enough)"
      ],
      "metadata": {
        "cellView": "form",
        "id": "XTX2Mw5OSqp6"
      },
      "execution_count": null,
      "outputs": []
    },
    {
      "cell_type": "markdown",
      "source": [
        "### **Modules**\n",
        "\n",
        "**Modules** in Python **are files that contain reusable code** — usually functions, variables, or classes — **that can be imported and used in other Python scripts**. They help you organize code logically and keep your programs clean and modular. You can use built-in modules like math, random, or datetime, or create your own.\n",
        "\n",
        "```python\n",
        "import math\n",
        "print(math.sqrt(16))  # Output: 4.0\n",
        "\n",
        "```\n"
      ],
      "metadata": {
        "id": "QNCuaZY1KcVk"
      }
    },
    {
      "cell_type": "markdown",
      "source": [
        "## **2**.&nbsp; **Libraries: NumPy**\n",
        "<img src=\"https://cdn.githubraw.com/antndlcrx/Intro-to-Python-DPIR/main/images/W2/numpy_logo.png?raw=true:,  width=25\" alt=\"My Image\" width=175>\n",
        "\n",
        "When working with large datasets or numerical computations in Python, **performance matters**. Standard Python data containers like lists are flexible and easy to use, but they become inefficient for heavy mathematical operations.\n",
        "\n",
        "Enter **NumPy** — a powerful library that **introduces a high-performance data container called the `ndarray`** (n-dimensional array). Unlike Python lists, ndarray is specifically designed for numerical computing. It offers faster computation, lower memory usage, and convenient syntax for array operations, linear algebra, and statistics.\n",
        "\n",
        "Most major libraries in the data science and machine learning ecosystem — including Pandas, Matplotlib, and Scikit-learn — are built on top of NumPy. So learning it is essential for progressing into more advanced tools and workflows.\n",
        "\n"
      ],
      "metadata": {
        "id": "7BwOBCGkUC_Z"
      }
    },
    {
      "cell_type": "markdown",
      "source": [
        "### **What Makes NumPy Special?**\n",
        "\n",
        "\n",
        "**Python is dynamically typed**, meaning you don't have to specify variable types — Python figures it out for you. While this makes Python very readable and flexible, it introduces overhead: every element in a list is a full Python object, carrying metadata like its type and memory reference.\n",
        "\n",
        "For small tasks, this overhead is negligible. **But for large-scale numerical operations, it becomes a bottleneck** — slower computation and higher memory use.\n",
        "\n",
        "NumPy solves this with its `ndarray`, which **is statically typed** — all elements are stored in contiguous memory blocks using the same data type (e.g., float64). This means:\n",
        "\n",
        "- No unnecessary type-checking.\n",
        "\n",
        "- No type metadata stored per element.\n",
        "\n",
        "- Faster access and operations (thanks to underlying C code).\n",
        "\n",
        "In short: **NumPy trades some flexibility for massive gains in speed and efficiency**, making it the go-to tool for high-performance numerical computing in Python."
      ],
      "metadata": {
        "id": "Ra0fUxZOU2a3"
      }
    },
    {
      "cell_type": "code",
      "source": [
        "import numpy as np # \"np\" is the standard alias for numpy"
      ],
      "metadata": {
        "id": "LYm4UJOcUHaS"
      },
      "execution_count": null,
      "outputs": []
    },
    {
      "cell_type": "code",
      "source": [
        "#@title Difference between python list and an np ndarray\n",
        "\n",
        "example_list = list(range(1_000_000))\n",
        "\n",
        "example_array = np.arange(1_000_000)\n",
        "\n",
        "# mutiply each element by 2\n",
        "%timeit example_list_multipled = [e * 2 for e in example_list]\n",
        "%timeit example_array_multiplied = example_array * 2"
      ],
      "metadata": {
        "colab": {
          "base_uri": "https://localhost:8080/"
        },
        "cellView": "form",
        "id": "JYeGxtK0VWHk",
        "outputId": "acbaf2aa-5788-44f2-e5ef-496ea870fe91"
      },
      "execution_count": null,
      "outputs": [
        {
          "output_type": "stream",
          "name": "stdout",
          "text": [
            "47 ms ± 1.85 ms per loop (mean ± std. dev. of 7 runs, 10 loops each)\n",
            "1.25 ms ± 94.6 µs per loop (mean ± std. dev. of 7 runs, 1000 loops each)\n"
          ]
        }
      ]
    },
    {
      "cell_type": "markdown",
      "source": [
        "###  **ndarray: the core NumPy data structure**\n",
        "\n",
        "> **An array is a structure for storing and retrieving data.** You can imagine an array as if it were a grid in space, with each cell storing one element of the data.\n",
        "\n",
        "Has following attributes:\n",
        "- `ndim`: number of dimensions.\n",
        "- `shape`: number of elements across each dimension.\n",
        "- `size`: total number of attributes.\n",
        "- `dtype`: data type of all elements in array."
      ],
      "metadata": {
        "id": "tqiryuNrVb8p"
      }
    },
    {
      "cell_type": "code",
      "source": [
        "#@title Example Creating Arrays\n",
        "\n",
        "# from lists\n",
        "my_list = [1, 2, 3]\n",
        "my_arr = np.array(my_list)\n",
        "my_arr\n",
        "\n",
        "# from np.arange()\n",
        "my_arr2 = np.arange(4) # similar to python list: my_list = list(range(4))\n",
        "my_arr2\n",
        "\n",
        "# fixed value arrays: zeros\n",
        "zeros = np.zeros(5)\n",
        "zeros\n",
        "\n",
        "# fixed value arrays: ones\n",
        "ones = np.ones((3, 3, 3), dtype=np.int16) # dtype=np.int16 is optional arg specifying your desired data type. Default float64\n",
        "ones\n",
        "\n",
        "# fixed value arrays: custom value\n",
        "arr_custom = np.full((2), 7.645)\n",
        "arr_custom"
      ],
      "metadata": {
        "cellView": "form",
        "id": "vXH5yIKBVkhq"
      },
      "execution_count": null,
      "outputs": []
    },
    {
      "cell_type": "markdown",
      "source": [
        "### **Indexing and Slicing Arrays**\n",
        "\n",
        "#### **1d Arrays**\n",
        "To select an element from an array, use square brakets to specify the desired element by refering to its index (counting from zero).\n",
        "\n",
        "```\n",
        "array[index]\n",
        "```\n",
        "\n",
        "1d-arrays can be indexed similar to python lists.\n",
        "\n",
        "#### **2d Arrays**\n",
        "To get an element from a multidimensional array, provide multiple inceces, one for each dimension of the array. For a matrix (2d array), provide a `(row, column)` pair of indexes.\n",
        "\n",
        "\n",
        "```\n",
        "array[row, column]\n",
        "```\n",
        "\n",
        "#### **3d Arrays**\n",
        "For arrays with larger number of dimensions, think of column index as the last one, and row index second to last.\n",
        "\n",
        "```\n",
        "array[:, :, row, column] # for a 4d array\n",
        "```"
      ],
      "metadata": {
        "id": "HDzDdKPCV2_f"
      }
    },
    {
      "cell_type": "code",
      "source": [
        "#@title Example Array Indexing\n",
        "\n",
        "arr_2d = np.arange(27).reshape((9,3))\n",
        "arr_2d\n",
        "\n",
        "arr_2d[0, 0] # get first row first column value\n",
        "arr_2d[0, -1] # last column of first row\n",
        "arr_2d[1, ] # all of second row\n",
        "\n",
        "arr_3d = np.arange(27).reshape((3,3,3))\n",
        "arr_3d\n",
        "\n",
        "arr_3d[1] # get second element of first dimension (matrix)\n",
        "arr_3d[1, 1] # get second matrix, second row\n",
        "arr_3d[:, -1, -1] # get second matrix, second row, third column value"
      ],
      "metadata": {
        "id": "7i6YOtdwWn1O"
      },
      "execution_count": null,
      "outputs": []
    },
    {
      "cell_type": "markdown",
      "source": [
        "### **Slicing Arrays**\n",
        "To get multiple elements or subarrays, you also use square brakets and the slicing notation.\n",
        "\n",
        "\n",
        "```\n",
        "array[start:stop:step]\n",
        "```\n",
        "\n",
        "The default values are `start=0`, `stop=<size of dimension>`, `step=1`. If you pass a negative value to `step`, the defaults of `start` and `stop` are swapped. This is a good way to reverse the array.\n",
        "\n",
        "> NumPy silicing creates a **view** of a sliced array."
      ],
      "metadata": {
        "id": "7Q1S1lZpW_Gq"
      }
    },
    {
      "cell_type": "code",
      "source": [
        "#@title Example Slicing Arrays\n",
        "\n",
        "arr_2d = np.arange(27).reshape((3, 9))\n",
        "arr_2d\n",
        "\n",
        "arr_2d[1, :4] # second row, all columns up to idx 4\n",
        "arr_2d[1, ::2] # second row every second column starting from the first\n",
        "arr_2d[::2, ::2] # every second row starting from first, every second column\n",
        "\n",
        "arr_2d[::-1, ] # all rows reversed\n",
        "\n",
        "# make a point about view vs copy\n",
        "second_row = arr_2d[1]\n",
        "second_row # is a view of arr_2d\n",
        "\n",
        "second_row[:2] = 999 # assign new values\n",
        "second_row\n",
        "arr_2d\n",
        "\n",
        "arr_3d = np.arange(27).reshape((3,3,3))\n",
        "arr_3d\n",
        "\n",
        "arr_3d[1, 1, ::2] # second matrix, second row, every second column"
      ],
      "metadata": {
        "id": "CIxwT_Y1XLEC"
      },
      "execution_count": null,
      "outputs": []
    },
    {
      "cell_type": "code",
      "source": [
        "#@title Exercises Array Manipulation\n",
        "\n",
        "#### Your Code Here ####\n",
        "\n",
        "# 1: get the third column across the entirery of arr_3d\n",
        "\n",
        "# 2: get the entire second row of the third matrix of arr_3d\n",
        "\n",
        "# 3: get the first matrix, last row, middle column of arr_3d"
      ],
      "metadata": {
        "id": "zHKBN0ckXn1S"
      },
      "execution_count": null,
      "outputs": []
    },
    {
      "cell_type": "markdown",
      "source": [
        "### **Advanced Indexing**\n",
        "\n",
        "“Advanced” indexing, also called “fancy” indexing, includes all cases where arrays are indexed by other arrays. **Advanced indexing always makes a copy, not a view of existing data array.**\n",
        "\n",
        "Advanced indexing allows to quickly access and modify subsets of array's values."
      ],
      "metadata": {
        "id": "2tNDFb3eYOoS"
      }
    },
    {
      "cell_type": "code",
      "source": [
        "#@title Example Fancy Indexing\n",
        "arr_2d = np.arange(15).reshape(5,3)\n",
        "arr_2d\n",
        "\n",
        "idx = [1,2]\n",
        "\n",
        "arr_2d[idx] # select indexed rows\n",
        "arr_2d[:, idx] # select indexed columns\n",
        "\n",
        "rows = [0, 1]\n",
        "cols = [1, 2]\n",
        "\n",
        "arr_2d[rows, cols]"
      ],
      "metadata": {
        "colab": {
          "base_uri": "https://localhost:8080/"
        },
        "id": "IWOTaNjOYWsK",
        "outputId": "3430ace2-1da0-46e9-8e4c-84bc18dee2bd"
      },
      "execution_count": null,
      "outputs": [
        {
          "output_type": "execute_result",
          "data": {
            "text/plain": [
              "array([1, 5])"
            ]
          },
          "metadata": {},
          "execution_count": 80
        }
      ]
    },
    {
      "cell_type": "markdown",
      "source": [
        "Boolean Indexing operators in NumPy:\n",
        "\n",
        "| Operator | Operation | Example | Description |\n",
        "|----------|-----------|---------|-------------|\n",
        "| `&` | Bitwise AND | `(arr > 5) & (arr < 10)` | Element-wise logical AND |\n",
        "| `\\|` | Bitwise OR | `(arr < 3) \\| (arr > 8)` | Element-wise logical OR |\n",
        "| `~` | Bitwise NOT | `~(arr > 5)` | Invert boolean mask |\n",
        "| `!=` | Not Equal | `arr != 0` | Elements not equal to value |\n",
        "| `==` | Equal | `arr == 10` | Elements equal to value |\n",
        "| `>` | Greater Than | `arr > 5` | Elements greater than value |\n",
        "| `<` | Less Than | `arr < 5` | Elements less than value |\n",
        "| `>=` | Greater or Equal | `arr >= 5` | Elements greater than or equal |\n",
        "| `<=` | Less or Equal | `arr <= 5` | Elements less than or equal |"
      ],
      "metadata": {
        "id": "ulQE5kfTYhkG"
      }
    },
    {
      "cell_type": "code",
      "source": [
        "#@title Example Fancy Idx (Boolean)\n",
        "mask = arr_2d > 7\n",
        "mask\n",
        "# arr_2d[arr_2d > 7]"
      ],
      "metadata": {
        "colab": {
          "base_uri": "https://localhost:8080/"
        },
        "id": "s1Z78PVYYlvS",
        "outputId": "8d962ab1-5a96-4bf2-c486-a3f1aeacbe97"
      },
      "execution_count": null,
      "outputs": [
        {
          "output_type": "execute_result",
          "data": {
            "text/plain": [
              "array([[False, False, False],\n",
              "       [False, False, False],\n",
              "       [False, False,  True],\n",
              "       [ True,  True,  True],\n",
              "       [ True,  True,  True]])"
            ]
          },
          "metadata": {},
          "execution_count": 85
        }
      ]
    },
    {
      "cell_type": "markdown",
      "source": [
        "### **Operations on Arrays**\n",
        "\n",
        "Arrays are great because they allow to express batch operations without specifying any for loops.\n",
        "\n",
        "**Universal functions (ufuncs)**\n",
        "\n",
        "Fast universal functions that perform element-wise operations on data in arrays.\n",
        "\n",
        "> **Vectorisation** is a computational technique in NumPy where operations are applied simultaneously to entire arrays without explicitly writing `for` loops.\n",
        "\n",
        "\n",
        "| Ufunc | Operation | Example | Description |\n",
        "|-------|-----------|---------|-------------|\n",
        "| `np.add()` | Addition | `arr1 + arr2` | Element-wise addition |\n",
        "| `np.subtract()` | Subtraction | `arr1 - arr2` | Element-wise subtraction |\n",
        "| `np.multiply()` | Multiplication | `arr1 * arr2` | Element-wise multiplication |\n",
        "| `np.divide()` | Division | `arr1 / arr2` | Element-wise division |\n",
        "| `np.power()` | Exponentiation | `arr**2` | Element-wise power |\n",
        "| `np.sqrt()` | Square Root | `np.sqrt(arr)` | Element-wise square root |\n",
        "| `np.exp()` | Exponential | `np.exp(arr)` | e raised to each element |\n",
        "| `np.abs()` | Absolute Value | `np.abs(arr)` | Computes the absolute value of each element |\n",
        "\n",
        "Summary statistics:\n",
        "\n",
        "| Ufunc | Operation | Example | Description |\n",
        "|-------|-----------|---------|-------------|\n",
        "| `np.mean()` | Average | `arr.mean()` | Calculates arithmetic mean |\n",
        "| `np.median()` | Median | `np.median(arr)` | Middle value of sorted array |\n",
        "| `np.std()` | Standard Deviation | `arr.std()` | Measure of data spread |\n",
        "| `np.var()` | Variance | `arr.var()` | Squared deviation from mean |\n",
        "| `np.sum()` | Total Sum | `arr.sum()` | Adds all array elements |\n",
        "| `np.min()` | Minimum | `arr.min()` | Smallest element |\n",
        "| `np.max()` | Maximum | `arr.max()` | Largest element |\n",
        "\n",
        "\n",
        "\n",
        "\n",
        "> 📚 For more, see:\n",
        "- [NumPy ufuncs basics](https://numpy.org/doc/2.1/user/basics.ufuncs.html#ufuncs-basics)\n",
        "- [NumPy ufuncs](https://numpy.org/doc/2.1/reference/ufuncs.html#ufuncs)\n",
        "\n",
        "\n"
      ],
      "metadata": {
        "id": "kjh0j_-SZGTu"
      }
    },
    {
      "cell_type": "code",
      "source": [
        "#@title Example Operations on Arrays\n",
        "\n",
        "arr = np.arange(10)\n",
        "arr + 5\n",
        "\n",
        "arr2 = arr[::-1]\n",
        "arr2\n",
        "\n",
        "arr * arr2 # multiply corresponding elements\n",
        "arr.mean() # mean of arr\n",
        "\n",
        "arr.std() # std, by default population std\n",
        "# arr.std(ddof=1) # std with bessels correction\n",
        "\n",
        "arr = arr.reshape(5,2)\n",
        "arr\n",
        "\n",
        "# arr.sum() # summs all elements\n",
        "# arr.sum(axis = 1) # sum over rows (across axis 1 which is columns)\n",
        "arr.sum(axis = 0) # sum over cols (across axis 0 which are rows)"
      ],
      "metadata": {
        "colab": {
          "base_uri": "https://localhost:8080/"
        },
        "id": "jW2sHc91ZjFH",
        "outputId": "b857c0b3-e039-4f8c-e919-ca10923ed58c"
      },
      "execution_count": null,
      "outputs": [
        {
          "output_type": "execute_result",
          "data": {
            "text/plain": [
              "array([20, 25])"
            ]
          },
          "metadata": {},
          "execution_count": 89
        }
      ]
    },
    {
      "cell_type": "markdown",
      "source": [
        "<img src=\"https://cdn.githubraw.com/antndlcrx/Intro-to-Python-DPIR/main/images/W2/np_matrix_aggregation_row.png?raw=true:,  width=150\" alt=\"My Image\" width=475>\n",
        "\n",
        "[Img source: NumPy basics](https://numpy.org/doc/stable/user/basics.broadcasting.html)"
      ],
      "metadata": {
        "id": "tThVhofuaTtx"
      }
    },
    {
      "cell_type": "markdown",
      "source": [
        "### **Broadcasting**\n",
        "\n",
        "Imagine you have two arrays of different shapes, and you want to perform an operation on them (like adding them together). To do that, you would need to bring the arrays to equal shapes.\n",
        "\n",
        "> **Broadcasting** is NumPy's way of *stretching* or replicating arrays with smaller shapes so that they have compatible shapes for element-wise operations\n",
        "\n",
        "\n",
        "\n",
        "**Two dimensions are compatible when:**\n",
        "1. **they are equal, or**\n",
        "2. **one of them is 1**\n",
        "\n",
        "\n",
        "**Broadcasting works by comparing the shapes of the arrays from right to left** (i.e., starting with the last dimension and moving to the first).\n",
        "\n",
        "How broadcasting is done:\n",
        "\n",
        "1. **Align Dims**: If two arrays have a different number of dimensions, prepend `1`s to the shape of the smaller array until both arrays have the same number of dimensions.\n",
        "\n",
        "```\n",
        "a.shape = (3, 4, 5)\n",
        "b.shape = (4, 5) → prepend 1 to make (1, 4, 5)\n",
        "\n",
        "```\n",
        "\n",
        "2. **Check Compatibility**: for each respective dim, check if they are equal or if one is `1`. For any dimension where one array has size `1`, that array's size is stretched (replicated) to match the size of the other array in that dimension.\n",
        "\n",
        "```\n",
        "a.shape = (3, 4, 5)\n",
        "b.shape = (1, 4, 5) broadcast to (3, 4, 5)\n",
        "```\n",
        "\n",
        "3. if all other dimensions have mathching lenghts, the arrays now are of equal shape and we can perform element-wise operations on them.\n",
        "\n",
        "\n",
        "\n",
        "References:\n",
        "- [NumPy Broadcasting Explained (mCoding)](https://www.youtube.com/watch?v=oG1t3qlzq14&t=354s)\n",
        "- [NumPy Website on Broadcasting](https://numpy.org/doc/stable/user/basics.broadcasting.html)"
      ],
      "metadata": {
        "id": "fFxVIhwhaVHb"
      }
    },
    {
      "cell_type": "code",
      "source": [
        "a = np.array([1,2,3])\n",
        "b = 2\n",
        "print(a.shape)"
      ],
      "metadata": {
        "colab": {
          "base_uri": "https://localhost:8080/"
        },
        "id": "3l-cI7pzaexT",
        "outputId": "43f7f1ee-6b35-4e32-acce-766777f30322"
      },
      "execution_count": null,
      "outputs": [
        {
          "output_type": "stream",
          "name": "stdout",
          "text": [
            "(3,)\n"
          ]
        }
      ]
    },
    {
      "cell_type": "code",
      "source": [
        "a * b"
      ],
      "metadata": {
        "colab": {
          "base_uri": "https://localhost:8080/"
        },
        "id": "5SIA7aT0agGf",
        "outputId": "3cf1fdf7-d26a-40d1-83b7-a05034afbeb5"
      },
      "execution_count": null,
      "outputs": [
        {
          "output_type": "execute_result",
          "data": {
            "text/plain": [
              "array([2, 4, 6])"
            ]
          },
          "metadata": {},
          "execution_count": 91
        }
      ]
    },
    {
      "cell_type": "markdown",
      "source": [
        "<img src=\"https://cdn.githubraw.com/antndlcrx/Intro-to-Python-DPIR/main/images/W2/broadcasting_one.png?raw=true:,  width=150\" alt=\"My Image\" width=475>\n",
        "\n",
        "[Img source: NumPy broadcasting](https://numpy.org/doc/stable/user/basics.broadcasting.html)"
      ],
      "metadata": {
        "id": "lM7j6SIXambv"
      }
    },
    {
      "cell_type": "code",
      "source": [
        "a = np.array([[0, 0, 0],\n",
        "            [10, 10, 10],\n",
        "            [20, 20, 20],\n",
        "            [30, 30, 30]])\n",
        "\n",
        "b = np.array([1, 2, 3])\n",
        "\n",
        "print(a.shape, b.shape)"
      ],
      "metadata": {
        "colab": {
          "base_uri": "https://localhost:8080/"
        },
        "id": "q1KOC0zpapSy",
        "outputId": "c9b75d3b-2c20-4610-ad6a-83c705737049"
      },
      "execution_count": null,
      "outputs": [
        {
          "output_type": "stream",
          "name": "stdout",
          "text": [
            "(4, 3) (3,)\n"
          ]
        }
      ]
    },
    {
      "cell_type": "code",
      "source": [
        "a + b # shapes: (4, 3) + (1, 3)"
      ],
      "metadata": {
        "colab": {
          "base_uri": "https://localhost:8080/"
        },
        "id": "e9gGKrqbaqb2",
        "outputId": "fff7a75d-e17f-48ce-b3db-e56f79baf036"
      },
      "execution_count": null,
      "outputs": [
        {
          "output_type": "execute_result",
          "data": {
            "text/plain": [
              "array([[ 1,  2,  3],\n",
              "       [11, 12, 13],\n",
              "       [21, 22, 23],\n",
              "       [31, 32, 33]])"
            ]
          },
          "metadata": {},
          "execution_count": 95
        }
      ]
    },
    {
      "cell_type": "markdown",
      "source": [
        "<img src=\"https://cdn.githubraw.com/antndlcrx/Intro-to-Python-DPIR/main/images/W2/broadcasting_two.png?raw=true:,  width=150\" alt=\"My Image\" width=475>\n",
        "\n",
        "[Img source: NumPy broadcasting](https://numpy.org/doc/stable/user/basics.broadcasting.html)"
      ],
      "metadata": {
        "id": "40sWCLzQauH9"
      }
    },
    {
      "cell_type": "code",
      "source": [
        "a = np.array([[0, 0, 0],\n",
        "            [10, 10, 10],\n",
        "            [20, 20, 20],\n",
        "            [30, 30, 30]])\n",
        "\n",
        "b = np.array([1, 2, 3, 4]) # added one more element!\n",
        "\n",
        "print(a.shape, b.shape)"
      ],
      "metadata": {
        "colab": {
          "base_uri": "https://localhost:8080/"
        },
        "id": "7MzFebwcawjH",
        "outputId": "87069cee-bbcc-4a14-d5f9-92f5563b8a26"
      },
      "execution_count": null,
      "outputs": [
        {
          "output_type": "stream",
          "name": "stdout",
          "text": [
            "(4, 3) (4,)\n"
          ]
        }
      ]
    },
    {
      "cell_type": "code",
      "source": [
        "a + b # shapes: (4, 3) + (1, 4) will give error bc 3 and 4 not match\n",
        "# a + b.reshape(-1, 1)"
      ],
      "metadata": {
        "colab": {
          "base_uri": "https://localhost:8080/",
          "height": 158
        },
        "id": "F8nTizenaxud",
        "outputId": "5341553a-e27b-4177-defa-d1439000c84c"
      },
      "execution_count": null,
      "outputs": [
        {
          "output_type": "error",
          "ename": "ValueError",
          "evalue": "operands could not be broadcast together with shapes (4,3) (4,) ",
          "traceback": [
            "\u001b[0;31m---------------------------------------------------------------------------\u001b[0m",
            "\u001b[0;31mValueError\u001b[0m                                Traceback (most recent call last)",
            "\u001b[0;32m<ipython-input-104-694aea860bab>\u001b[0m in \u001b[0;36m<cell line: 0>\u001b[0;34m()\u001b[0m\n\u001b[0;32m----> 1\u001b[0;31m \u001b[0ma\u001b[0m \u001b[0;34m+\u001b[0m \u001b[0mb\u001b[0m \u001b[0;31m# shapes: (4, 3) + (1, 4) will give error bc 3 and 4 not match\u001b[0m\u001b[0;34m\u001b[0m\u001b[0;34m\u001b[0m\u001b[0m\n\u001b[0m\u001b[1;32m      2\u001b[0m \u001b[0;31m# a + b.reshape(-1, 1)\u001b[0m\u001b[0;34m\u001b[0m\u001b[0;34m\u001b[0m\u001b[0m\n",
            "\u001b[0;31mValueError\u001b[0m: operands could not be broadcast together with shapes (4,3) (4,) "
          ]
        }
      ]
    },
    {
      "cell_type": "markdown",
      "source": [
        "<img src=\"https://cdn.githubraw.com/antndlcrx/Intro-to-Python-DPIR/main/images/W2/broadcasting_three.png?raw=true:,  width=150\" alt=\"My Image\" width=475>\n",
        "\n",
        "[Img source: NumPy broadcasting](https://numpy.org/doc/stable/user/basics.broadcasting.html)"
      ],
      "metadata": {
        "id": "m4sfxFyMa0mQ"
      }
    },
    {
      "cell_type": "code",
      "source": [
        "a = np.array([[0], [10], [20], [30]])\n",
        "\n",
        "b = np.array([1, 2, 3])\n",
        "\n",
        "print(a.shape, b.shape)"
      ],
      "metadata": {
        "id": "F17HGEJza0Pz"
      },
      "execution_count": null,
      "outputs": []
    },
    {
      "cell_type": "markdown",
      "source": [
        "<img src=\"https://cdn.githubraw.com/antndlcrx/Intro-to-Python-DPIR/main/images/W2/broadcasting_four.png?raw=true:,  width=150\" alt=\"My Image\" width=475>\n",
        "\n",
        "[Img source: NumPy broadcasting](https://numpy.org/doc/stable/user/basics.broadcasting.html)"
      ],
      "metadata": {
        "id": "Dtq14q0hbQvh"
      }
    },
    {
      "cell_type": "code",
      "source": [
        "#@title Exercises NumPy\n",
        "\n",
        "arr_2d = np.arange(27).reshape(3, -1)\n",
        "print(arr_2d)\n",
        "\n",
        "# task 1: center each column (subtract the mean of column from every element)\n",
        "\n",
        "# task 2: normalise each row to sum to 1\n",
        "\n",
        "# task 3: replace each element with its distance from the array's overall mean"
      ],
      "metadata": {
        "id": "KBQv2Ot4bYzL"
      },
      "execution_count": null,
      "outputs": []
    }
  ]
}